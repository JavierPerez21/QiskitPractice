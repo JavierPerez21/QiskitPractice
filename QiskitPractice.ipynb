{
  "nbformat": 4,
  "nbformat_minor": 0,
  "metadata": {
    "colab": {
      "name": "QiskitPractice.ipynb",
      "provenance": [],
      "authorship_tag": "ABX9TyMVJDSkLvtM1VagoobHDgZN",
      "include_colab_link": true
    },
    "kernelspec": {
      "name": "python3",
      "display_name": "Python 3"
    },
    "language_info": {
      "name": "python"
    }
  },
  "cells": [
    {
      "cell_type": "markdown",
      "metadata": {
        "id": "view-in-github",
        "colab_type": "text"
      },
      "source": [
        "<a href=\"https://colab.research.google.com/github/JavierPerez21/QiskitPractice/blob/main/QiskitPractice.ipynb\" target=\"_parent\"><img src=\"https://colab.research.google.com/assets/colab-badge.svg\" alt=\"Open In Colab\"/></a>"
      ]
    },
    {
      "cell_type": "code",
      "metadata": {
        "id": "PeQC2LZAKrMY"
      },
      "source": [
        "%%capture\n",
        "!pip install qiskit"
      ],
      "execution_count": null,
      "outputs": []
    },
    {
      "cell_type": "markdown",
      "metadata": {
        "id": "Caz-sChvd-zv"
      },
      "source": [
        "# Random Circuit Generator class"
      ]
    },
    {
      "cell_type": "code",
      "metadata": {
        "id": "1D-sU46fLBED"
      },
      "source": [
        "from qiskit import *\n",
        "import numpy as np\n",
        "from math import pi\n",
        "from qiskit.visualization import plot_histogram, plot_bloch_multivector, plot_state_qsphere, plot_state_city\n",
        "from qiskit.quantum_info import Statevector\n",
        "from qiskit.quantum_info import state_fidelity\n",
        "import matplotlib.pyplot as plt\n",
        "\n",
        "\n",
        "class RandomCircuitGenerator:\n",
        "    def __init__(self, qubits=1, max_depth=3):\n",
        "        self.qubits = np.arange(0,qubits).tolist()\n",
        "        self.max_depth = max_depth\n",
        "        self.qc = QuantumCircuit(qubits, qubits)\n",
        "        self.single_qubit_gates = ['x', 'z', 'y', 'h', 's', 't', 'rx', 'rz', 'ry', '']\n",
        "        self.multi_qubit_gates = ['cx', 'cz', 'cy', 'ch', 'cs', 'ct', 'crx', 'crz', 'cry', '']\n",
        "        self.angles = [0, pi / 8, pi / 4, 3 * pi / 8, pi / 2, 5 * pi / 8, 3 * pi / 4, 7 * pi / 8, pi, 9 * pi / 8,\n",
        "                       5 * pi / 4, 11 * pi / 8, 3 * pi / 2, 13 * pi / 8, 7 * pi / 4, 15 * pi / 8, 2 * pi]\n",
        "        if len(self.qubits) > 1:\n",
        "            self.available_gates = self.single_qubit_gates + self.multi_qubit_gates\n",
        "        else:\n",
        "            self.available_gates = self.single_qubit_gates\n",
        "\n",
        "    def generate_random_circuit(self):\n",
        "        for i in range(0, self.max_depth):\n",
        "            gate = self.available_gates[np.random.randint(0, len(self.available_gates))]\n",
        "            self.add_gate(gate)\n",
        "\n",
        "    def add_gate(self, gate):\n",
        "        if gate == 'x':\n",
        "            qubit = self.qubits[np.random.randint(0, len(self.qubits))]\n",
        "            self.qc.x(qubit)\n",
        "        elif gate == 'z':\n",
        "            qubit = self.qubits[np.random.randint(0, len(self.qubits))]\n",
        "            self.qc.z(qubit)\n",
        "        elif gate == 'y':\n",
        "            qubit = self.qubits[np.random.randint(0, len(self.qubits))]\n",
        "            self.qc.y(qubit)\n",
        "        elif gate == 'h':\n",
        "            qubit = self.qubits[np.random.randint(0, len(self.qubits))]\n",
        "            self.qc.h(qubit)\n",
        "        elif gate == 's':\n",
        "            qubit = self.qubits[np.random.randint(0, len(self.qubits))]\n",
        "            self.qc.s(qubit)\n",
        "        elif gate == 't':\n",
        "            qubit = self.qubits[np.random.randint(0, len(self.qubits))]\n",
        "            self.qc.t(qubit)\n",
        "        elif gate == 'rx':\n",
        "            qubit = self.qubits[np.random.randint(0, len(self.qubits))]\n",
        "            angle = self.angles[np.random.randint(0, len(self.angles))]\n",
        "            self.qc.rx(angle, qubit)\n",
        "        elif gate == 'rz':\n",
        "            qubit = self.qubits[np.random.randint(0, len(self.qubits))]\n",
        "            angle = self.angles[np.random.randint(0, len(self.angles))]\n",
        "            self.qc.rz(angle, qubit)\n",
        "        elif gate == 'ry':\n",
        "            qubit = self.qubits[np.random.randint(0, len(self.qubits))]\n",
        "            angle = self.angles[np.random.randint(0, len(self.angles))]\n",
        "            self.qc.ry(angle, qubit)\n",
        "        elif gate == 'cx':\n",
        "            qubit1 = self.qubits[np.random.randint(0, len(self.qubits))]\n",
        "            qubit2 = self.qubits[np.random.randint(0, len(self.qubits))]\n",
        "            while qubit1 == qubit2:\n",
        "                qubit2 = self.qubits[np.random.randint(0, len(self.qubits))]\n",
        "            self.qc.cx(qubit1, qubit2)\n",
        "        elif gate == 'cz':\n",
        "            qubit1 = self.qubits[np.random.randint(0, len(self.qubits))]\n",
        "            qubit2 = self.qubits[np.random.randint(0, len(self.qubits))]\n",
        "            while qubit1 == qubit2:\n",
        "                qubit2 = self.qubits[np.random.randint(0, len(self.qubits))]\n",
        "            self.qc.cz(qubit1, qubit2)\n",
        "        elif gate == 'cy':\n",
        "            qubit1 = self.qubits[np.random.randint(0, len(self.qubits))]\n",
        "            qubit2 = self.qubits[np.random.randint(0, len(self.qubits))]\n",
        "            while qubit1 == qubit2:\n",
        "                qubit2 = self.qubits[np.random.randint(0, len(self.qubits))]\n",
        "            self.qc.cy(qubit1, qubit2)\n",
        "        elif gate == 'ch':\n",
        "            qubit1 = self.qubits[np.random.randint(0, len(self.qubits))]\n",
        "            qubit2 = self.qubits[np.random.randint(0, len(self.qubits))]\n",
        "            while qubit1 == qubit2:\n",
        "                qubit2 = self.qubits[np.random.randint(0, len(self.qubits))]\n",
        "            self.qc.ch(qubit1, qubit2)\n",
        "        elif gate == 'cs':\n",
        "            qubit1 = self.qubits[np.random.randint(0, len(self.qubits))]\n",
        "            qubit2 = self.qubits[np.random.randint(0, len(self.qubits))]\n",
        "            while qubit1 == qubit2:\n",
        "                qubit2 = self.qubits[np.random.randint(0, len(self.qubits))]\n",
        "            self.qc.cs(qubit1, qubit2)\n",
        "        elif gate == 'ct':\n",
        "            qubit1 = self.qubits[np.random.randint(0, len(self.qubits))]\n",
        "            qubit2 = self.qubits[np.random.randint(0, len(self.qubits))]\n",
        "            while qubit1 == qubit2:\n",
        "                qubit2 = self.qubits[np.random.randint(0, len(self.qubits))]\n",
        "            self.qc.ct(qubit1, qubit2)\n",
        "        elif gate == 'crx':\n",
        "            qubit1 = self.qubits[np.random.randint(0, len(self.qubits))]\n",
        "            qubit2 = self.qubits[np.random.randint(0, len(self.qubits))]\n",
        "            while qubit1 == qubit2:\n",
        "                qubit2 = self.qubits[np.random.randint(0, len(self.qubits))]\n",
        "            angle = self.angles[np.random.randint(0, len(self.angles))]\n",
        "            self.qc.crx(angle, qubit1, qubit2)\n",
        "        elif gate == 'crz':\n",
        "            qubit1 = self.qubits[np.random.randint(0, len(self.qubits))]\n",
        "            qubit2 = self.qubits[np.random.randint(0, len(self.qubits))]\n",
        "            while qubit1 == qubit2:\n",
        "                qubit2 = self.qubits[np.random.randint(0, len(self.qubits))]\n",
        "            angle = self.angles[np.random.randint(0, len(self.angles))]\n",
        "            self.qc.crz(angle, qubit1, qubit2)\n",
        "        elif gate == 'cry':\n",
        "            qubit1 = self.qubits[np.random.randint(0, len(self.qubits))]\n",
        "            qubit2 = self.qubits[np.random.randint(0, len(self.qubits))]\n",
        "            while qubit1 == qubit2:\n",
        "                qubit2 = self.qubits[np.random.randint(0, len(self.qubits))]\n",
        "            angle = self.angles[np.random.randint(0, len(self.angles))]\n",
        "            self.qc.cry(angle, qubit1, qubit2)\n",
        "\n",
        "    def show_circuit(self):\n",
        "        print(self.qc)\n",
        "        self.qc.draw()\n",
        "\n",
        "    def execution_historgram(self):\n",
        "        qc = self.qc.copy()\n",
        "        qc.measure(self.qubits, self.qubits)\n",
        "        backend = BasicAer.get_backend('qasm_simulator')\n",
        "        job = execute(qc, backend)\n",
        "        plot_histogram(job.result().get_counts(), color='midnightblue', title=\"Execution Histogram\")\n",
        "        plt.show()\n",
        "\n",
        "    def bloch_sphere(self):\n",
        "        qc = self.qc.copy()\n",
        "        state = Statevector.from_instruction(qc)\n",
        "        plot_bloch_multivector(state, title=\"Bloch Sphere\", reverse_bits=False)\n",
        "        plt.show()\n",
        "\n",
        "    def q_sphere(self):\n",
        "        qc = self.qc.copy()\n",
        "        state = Statevector.from_instruction(qc)\n",
        "        plot_state_qsphere(state)\n",
        "        plt.show()\n",
        "\n",
        "    def state_city(self):\n",
        "        qc = self.qc.copy()\n",
        "        backend = BasicAer.get_backend('statevector_simulator')\n",
        "        result = backend.run(transpile(qc, backend)).result()\n",
        "        psi = result.get_statevector(qc)\n",
        "        plot_state_city(psi)\n",
        "\n",
        "    def add_circuit_guess(self, circuit_guess):\n",
        "        qc = self.qc.copy()\n",
        "        self.circuit_guess = circuit_guess\n",
        "        circuit_guess = circuit_guess.copy()\n",
        "\n",
        "        backend = BasicAer.get_backend('statevector_simulator')\n",
        "        qc_state = execute(qc, backend).result().get_statevector(qc)\n",
        "        circuit_guess_state = execute(circuit_guess, backend).result().get_statevector(circuit_guess)\n",
        "        print(\"State fidelity of your circuit: {}\".format(state_fidelity(circuit_guess_state, qc_state)))"
      ],
      "execution_count": null,
      "outputs": []
    },
    {
      "cell_type": "markdown",
      "metadata": {
        "id": "q3TLPEaJd9qG"
      },
      "source": [
        "# Practice"
      ]
    },
    {
      "cell_type": "code",
      "metadata": {
        "id": "iGA8W0NXdm6w"
      },
      "source": [
        "# Generate a random circuit\n",
        "\n",
        "circuit = RandomCircuitGenerator(qubits=1, max_depth=2)\n",
        "circuit.generate_random_circuit()"
      ],
      "execution_count": null,
      "outputs": []
    },
    {
      "cell_type": "code",
      "metadata": {
        "id": "eigc7EHads5y"
      },
      "source": [
        "# Visualize som information about the random circuit\n",
        "\n",
        "#circuit.execution_historgram()\n",
        "#circuit.bloch_sphere()\n",
        "#circuit.q_sphere()\n",
        "#circuit.show_circuit()"
      ],
      "execution_count": null,
      "outputs": []
    },
    {
      "cell_type": "code",
      "metadata": {
        "colab": {
          "base_uri": "https://localhost:8080/"
        },
        "id": "bmbLMCPHdsWc",
        "outputId": "d5eb7b7d-bc91-4b78-faca-8496cae3f502"
      },
      "source": [
        "# Try to generate  a similar circuit\n",
        "\n",
        "circuit_guess = QuantumCircuit(1)\n",
        "circuit_guess.h(0)\n",
        "circuit.add_circuit_guess(circuit_guess)"
      ],
      "execution_count": null,
      "outputs": [
        {
          "output_type": "stream",
          "name": "stdout",
          "text": [
            "State fidelity of your circuit: 0.4999999999999999\n"
          ]
        }
      ]
    }
  ]
}